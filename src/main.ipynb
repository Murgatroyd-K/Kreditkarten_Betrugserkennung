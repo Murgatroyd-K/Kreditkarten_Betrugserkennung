{
 "cells": [
  {
   "cell_type": "code",
   "execution_count": 0,
   "metadata": {
    "application/vnd.databricks.v1+cell": {
     "cellMetadata": {
      "byteLimit": 2048000,
      "rowLimit": 10000
     },
     "inputWidgets": {},
     "nuid": "c98f2e16-85f0-4c02-a43c-8ca1be00a8ce",
     "showTitle": false,
     "title": ""
    }
   },
   "outputs": [],
   "source": [
    "# Importieren der erforderlichen Bibliotheken und Module für Datenverarbeitung und maschinelles Lernen\n",
    "from pyspark.sql import SparkSession\n",
    "from pyspark.ml.feature import RobustScaler,VectorAssembler\n",
    "from pyspark.ml.linalg import Vectors,DenseVector\n",
    "from pyspark.sql.functions import col,max,min,udf, concat\n",
    "from pyspark.sql.types import DoubleType\n",
    "from pyspark.ml.classification import LogisticRegression,RandomForestClassifier,GBTClassifier,LinearSVC\n",
    "from pyspark.mllib.evaluation import MulticlassMetrics\n",
    "from pyspark.ml.evaluation import MulticlassClassificationEvaluator\n",
    "from pyspark.ml.feature import VectorAssembler\n"
   ]
  },
  {
   "cell_type": "code",
   "execution_count": 0,
   "metadata": {
    "application/vnd.databricks.v1+cell": {
     "cellMetadata": {
      "byteLimit": 2048000,
      "rowLimit": 10000
     },
     "inputWidgets": {},
     "nuid": "14719caa-57e3-4289-a5e2-560113d86395",
     "showTitle": true,
     "title": "Hilfsfunktionen"
    }
   },
   "outputs": [],
   "source": [
    "# Hilfsfunktion zum Extrahieren von Werten aus einem Vektor\n",
    "def extract_from_vector(vec):\n",
    "    return float(vec[0])\n",
    "\n",
    "# Funktion zur Analyse der Modellvorhersagen\n",
    "def analysis(predictions,model):\n",
    "    # Umwandeln der Vorhersagen in ein RDD-Format für die Metriken-Berechnung\n",
    "    predictionAndLabels = predictions.rdd.map(lambda lp: (float(lp.prediction), float(lp.Class)))\n",
    "    \n",
    "    # Berechnen und Ausgeben von Precision, Recall und F1-Wert für jedes Label    \n",
    "    metrics = MulticlassMetrics(predictionAndLabels)\n",
    "    # Erstllen einer Liste für Rückgabewerte\n",
    "    list_dict_return= []\n",
    "    # Berechnen der Genauigkeit für jedes Label\n",
    "    labels = predictionAndLabels.map(lambda lp: lp[1]).distinct().collect()\n",
    "    for label in sorted(labels):\n",
    "        precision = metrics.precision(label)\n",
    "        recall = metrics.recall(label)\n",
    "        f1Score = metrics.fMeasure(label)\n",
    "        print(f\"Label {label}: Precision = {precision}, Recall = {recall}, F1 Score = {f1Score}\")\n",
    "        list_dict_return.append({\"Label\":label, \"Precision\":precision,\"Recall\":recall, \"F1 Score\":f1Score, \"Model\":model})\n",
    "    return(list_dict_return)"
   ]
  },
  {
   "cell_type": "code",
   "execution_count": 0,
   "metadata": {
    "application/vnd.databricks.v1+cell": {
     "cellMetadata": {
      "byteLimit": 2048000,
      "rowLimit": 10000
     },
     "inputWidgets": {},
     "nuid": "ad83a98d-950e-4b65-aa79-c77311a274dd",
     "showTitle": true,
     "title": "Daten Laden"
    }
   },
   "outputs": [],
   "source": [
    "# Pfad und Typ der zu ladenden Datei\n",
    "file_location = \"/FileStore/tables/creditcard.csv\"\n",
    "file_type = \"csv\"\n",
    "\n",
    "# Optionen für das Einlesen der CSV-Datei\n",
    "infer_schema = \"True\"\n",
    "first_row_is_header = \"true\"\n",
    "delimiter = \",\"\n",
    "\n",
    "# Laden der CSV-Datei als DataFrame\n",
    "df = spark.read.format(file_type) \\\n",
    "  .option(\"inferSchema\", infer_schema) \\\n",
    "  .option(\"header\", first_row_is_header) \\\n",
    "  .option(\"sep\", delimiter) \\\n",
    "  .load(file_location)\n",
    "\n",
    "# Konvertieren aller Spalten in DoubleType für die maschinelle Verarbeitung\n",
    "columns = df.columns\n",
    "for column in columns:\n",
    "    df = df.withColumn(column, col(column).cast(DoubleType()))\n"
   ]
  },
  {
   "cell_type": "code",
   "execution_count": 0,
   "metadata": {
    "application/vnd.databricks.v1+cell": {
     "cellMetadata": {
      "byteLimit": 2048000,
      "rowLimit": 10000
     },
     "inputWidgets": {},
     "nuid": "fdbb5a88-c694-4206-b08f-0389009b06d0",
     "showTitle": true,
     "title": "scaling amount"
    }
   },
   "outputs": [],
   "source": [
    "# Erstellen eines VectorAssembler-Objekts zur Transformation der Daten in ein für ML-Modelle geeignetes Format\n",
    "assembler = VectorAssembler(inputCols=[\"Amount\"], outputCol=\"v_amount\")\n",
    "scaler = RobustScaler(inputCol=\"v_amount\", outputCol=\"scaledFeatures\", \n",
    "                      withScaling=True, withCentering=False,\n",
    "                      lower=0.25, upper=0.75)\n",
    "\n",
    "# Transformieren des DataFrames\n",
    "transformed_df = assembler.transform(df)\n",
    "\n",
    "# Fit und Transformation des DataFrames\n",
    "scalerModel = scaler.fit(transformed_df)\n",
    "scaledData = scalerModel.transform(transformed_df)\n",
    "extract_udf = udf(extract_from_vector, DoubleType())\n",
    "df_with_extracted_value = scaledData.withColumn(\"Scal_Amount\", extract_udf(scaledData[\"scaledFeatures\"]))\n",
    "df = df_with_extracted_value.drop(\"scaledFeatures\",\"v_amount\")"
   ]
  },
  {
   "cell_type": "code",
   "execution_count": 0,
   "metadata": {
    "application/vnd.databricks.v1+cell": {
     "cellMetadata": {
      "byteLimit": 2048000,
      "rowLimit": 10000
     },
     "inputWidgets": {},
     "nuid": "b78aceb3-5ee4-4a08-b61f-417fd1210b90",
     "showTitle": true,
     "title": "scaling time"
    }
   },
   "outputs": [],
   "source": [
    "min_time = df.select(min(col(\"Time\"))).first()[0]\n",
    "max_time = df.select(max(col(\"Time\"))).first()[0]\n",
    "df = df.withColumn(\"Scal_Time\", (col(\"Time\") - min_time) / (max_time - min_time))"
   ]
  },
  {
   "cell_type": "code",
   "execution_count": 0,
   "metadata": {
    "application/vnd.databricks.v1+cell": {
     "cellMetadata": {
      "byteLimit": 2048000,
      "rowLimit": 10000
     },
     "inputWidgets": {},
     "nuid": "14c187e8-99cc-4922-afbc-f9b25efa7c49",
     "showTitle": true,
     "title": "Ergebnis vom scaling"
    }
   },
   "outputs": [
    {
     "output_type": "stream",
     "name": "stdout",
     "output_type": "stream",
     "text": [
      "+-------+------------------+\n|summary|            Amount|\n+-------+------------------+\n|  count|            284807|\n|   mean| 88.34961925093698|\n| stddev|250.12010924018836|\n|    min|               0.0|\n|    max|          25691.16|\n+-------+------------------+\n\n+-------+------------------+\n|summary|       Scal_Amount|\n+-------+------------------+\n|  count|            284807|\n|   mean| 1.237562953507917|\n| stddev| 3.503573459030513|\n|    min|               0.0|\n|    max|359.87057010785827|\n+-------+------------------+\n\n+-------+------------------+\n|summary|              Time|\n+-------+------------------+\n|  count|            284807|\n|   mean| 94813.85957508067|\n| stddev|47488.145954566266|\n|    min|               0.0|\n|    max|          172792.0|\n+-------+------------------+\n\n+-------+------------------+\n|summary|         Scal_Time|\n+-------+------------------+\n|  count|            284807|\n|   mean| 0.548716720537296|\n| stddev|0.2748283829955438|\n|    min|               0.0|\n|    max|               1.0|\n+-------+------------------+\n\n"
     ]
    }
   ],
   "source": [
    "df.select(\"Amount\").describe().show()\n",
    "df.select(\"Scal_Amount\").describe().show()\n",
    "df.select(\"Time\").describe().show()\n",
    "df.select(\"Scal_Time\").describe().show()"
   ]
  },
  {
   "cell_type": "code",
   "execution_count": 0,
   "metadata": {
    "application/vnd.databricks.v1+cell": {
     "cellMetadata": {
      "byteLimit": 2048000,
      "rowLimit": 10000
     },
     "inputWidgets": {},
     "nuid": "c16d10db-b9c9-4c1a-b2d4-27f13e5f8567",
     "showTitle": true,
     "title": "Feature Vektor erstellen und Daten splitten "
    }
   },
   "outputs": [],
   "source": [
    "# Definition der zu verwendenden Spalten\n",
    "feature_columns = df.columns\n",
    "feature_columns.remove(\"Amount\")\n",
    "feature_columns.remove(\"Time\")\n",
    "feature_columns.remove(\"Class\")\n",
    "label_column = \"Class\"\n",
    "\n",
    "vector_assembler = VectorAssembler(inputCols=feature_columns, outputCol=\"features\")\n",
    "df_t = vector_assembler.transform(df)\n",
    "# Aufteilung der Daten in Trainings- und Testdatensätze\n",
    "train_data, test_data, validation_data = df_t.randomSplit([0.80, 0.10, 0.10], seed=1)\n",
    "list_analysis = []\n",
    "list_analysis_down =[]"
   ]
  },
  {
   "cell_type": "code",
   "execution_count": 0,
   "metadata": {
    "application/vnd.databricks.v1+cell": {
     "cellMetadata": {
      "byteLimit": 2048000,
      "rowLimit": 10000
     },
     "inputWidgets": {},
     "nuid": "537ef9a9-341c-404f-be2d-94811147880e",
     "showTitle": true,
     "title": "LogisticRegression"
    }
   },
    {
     "output_type": "stream",
     "name": "stdout",
     "output_type": "stream",
     "text": [
      "Label 0.0: Precision = 0.9994349085258176, Recall = 0.9999293286219081, F1 Score = 0.9996820574416221\nLabel 1.0: Precision = 0.9411764705882353, Recall = 0.6666666666666666, F1 Score = 0.7804878048780487\n"
     ]
    },
   "source": [
    "lr = LogisticRegression(featuresCol=\"features\", labelCol=label_column)\n",
    "model = lr.fit(train_data)\n",
    "predictions = model.transform(validation_data)\n",
    "list_analysis.extend(analysis(predictions,\"lr\"))"
   ]
  },
  {
   "cell_type": "code",
   "execution_count": 0,
   "metadata": {
    "application/vnd.databricks.v1+cell": {
     "cellMetadata": {
      "byteLimit": 2048000,
      "rowLimit": 10000
     },
     "inputWidgets": {},
     "nuid": "73a06654-0c94-4582-910c-e8658f9b33ec",
     "showTitle": true,
     "title": "Randomforest"
    }
   },
    {
     "output_type": "stream",
     "name": "stdout",
     "output_type": "stream",
     "text": [
      "Label 0.0: Precision = 0.9996114447191805, Recall = 0.9999646643109541, F1 Score = 0.9997880233174351\nLabel 1.0: Precision = 0.9736842105263158, Recall = 0.7708333333333334, F1 Score = 0.8604651162790697\n"
     ]
    }
   ],
   "source": [
    "rf = RandomForestClassifier(labelCol=label_column, featuresCol=\"features\", numTrees=10)\n",
    "model = rf.fit(train_data)\n",
    "predictions = model.transform(validation_data)\n",
    "list_analysis.extend(analysis(predictions,\"rf\"))"
   ]
  },
  {
   "cell_type": "code",
   "execution_count": 0,
   "metadata": {
    "application/vnd.databricks.v1+cell": {
     "cellMetadata": {
      "byteLimit": 2048000,
      "rowLimit": 10000
     },
     "inputWidgets": {},
     "nuid": "239a1503-70c0-4028-88ea-b6dd3305f400",
     "showTitle": true,
     "title": "Gradient Boosting"
    }
   },
   "outputs": [
    {
     "output_type": "stream",
     "name": "stdout",
     "output_type": "stream",
     "text": [
      "Label 0.0: Precision = 0.9996820462092842, Recall = 0.9998939929328622, F1 Score = 0.9997880083383387\nLabel 1.0: Precision = 0.9285714285714286, Recall = 0.8125, F1 Score = 0.8666666666666666\n"
     ]
    }
   ],
   "source": [
    "gbt = GBTClassifier(labelCol=label_column, featuresCol=\"features\", maxIter=10)\n",
    "model = gbt.fit(train_data)\n",
    "predictions = model.transform(validation_data)\n",
    "list_analysis.extend(analysis(predictions,\"gbt\"))"
   ]
  },
  {
   "cell_type": "code",
   "execution_count": 0,
   "metadata": {
    "application/vnd.databricks.v1+cell": {
     "cellMetadata": {
      "byteLimit": 2048000,
      "rowLimit": 10000
     },
     "inputWidgets": {},
     "nuid": "b951fe51-d05a-4d4e-a6c3-45f6409ef095",
     "showTitle": true,
     "title": " Linear Support Vector Classifier "
    }
   },
   "outputs": [
    {
     "output_type": "stream",
     "name": "stdout",
     "output_type": "stream",
     "text": [
      "Label 0.0: Precision = 0.9994349284831362, Recall = 0.9999646643109541, F1 Score = 0.9996997262209664\nLabel 1.0: Precision = 0.9696969696969697, Recall = 0.6666666666666666, F1 Score = 0.7901234567901234\n"
     ]
    }
   ],
   "source": [
    "lsvc = LinearSVC(maxIter=10, regParam=0.1, labelCol=label_column, featuresCol=\"features\")\n",
    "model = lsvc.fit(train_data)\n",
    "predictions = model.transform(validation_data)\n",
    "list_analysis.extend(analysis(predictions,\"lsvc\"))"
   ]
  },
  {
   "cell_type": "code",
   "execution_count": 0,
   "metadata": {
    "application/vnd.databricks.v1+cell": {
     "cellMetadata": {
      "byteLimit": 2048000,
      "rowLimit": 10000
     },
     "inputWidgets": {},
     "nuid": "5aca4051-bdff-4934-a6b6-9f208cb17cd1",
     "showTitle": true,
     "title": "Downsampling "
    }
   },
   "outputs": [],
   "source": [
    "class_1_df = df_t.filter(col(\"class\") == 1)\n",
    "\n",
    "class_1_count = class_1_df.count()\n",
    "\n",
    "class_0_count = df_t.filter(col(\"class\") == 0).count()\n",
    "sample_fraction = class_1_count / float(class_0_count)\n",
    "class_0_sampled_df = df_t.filter(col(\"class\") == 0).sample(withReplacement=False, fraction=sample_fraction)\n",
    "balanced_df = class_1_df.union(class_0_sampled_df)"
   ]
  },
  {
   "cell_type": "code",
   "execution_count": 0,
   "metadata": {
    "application/vnd.databricks.v1+cell": {
     "cellMetadata": {
      "byteLimit": 2048000,
      "rowLimit": 10000
     },
     "inputWidgets": {},
     "nuid": "99dfd7dd-cfe0-4443-9861-c864b071f2a0",
     "showTitle": true,
     "title": "Downsampling split"
    }
   },
   "outputs": [],
   "source": [
    "train_data_b, test_data_b, validation_data_b = balanced_df.randomSplit([0.80, 0.10, 0.10], seed=1)"
   ]
  },
  {
   "cell_type": "code",
   "execution_count": 0,
   "metadata": {
    "application/vnd.databricks.v1+cell": {
     "cellMetadata": {
      "byteLimit": 2048000,
      "rowLimit": 10000
     },
     "inputWidgets": {},
     "nuid": "68078dc0-25b8-4af3-b0be-14b0010fb3ea",
     "showTitle": true,
     "title": "LogisticRegression"
    }
   },
   "outputs": [
    {
     "output_type": "stream",
     "name": "stdout",
     "output_type": "stream",
     "text": [
      "Label 0.0: Precision = 0.8461538461538461, Recall = 0.9166666666666666, F1 Score = 0.8799999999999999\nLabel 1.0: Precision = 0.9245283018867925, Recall = 0.8596491228070176, F1 Score = 0.8909090909090909\n"
     ]
    }
   ],
   "source": [
    "lr = LogisticRegression(featuresCol=\"features\", labelCol=label_column)\n",
    "model = lr.fit(train_data_b)\n",
    "predictions = model.transform(validation_data_b)\n",
    "list_analysis_down.extend(analysis(predictions,\"lr\"))"
   ]
  },
  {
   "cell_type": "code",
   "execution_count": 0,
   "metadata": {
    "application/vnd.databricks.v1+cell": {
     "cellMetadata": {
      "byteLimit": 2048000,
      "rowLimit": 10000
     },
     "inputWidgets": {},
     "nuid": "527d2327-4fb3-4b0c-aa48-d888385643b8",
     "showTitle": true,
     "title": "Randomforest"
    }
   },
   "outputs": [
    {
     "output_type": "stream",
     "name": "stdout",
     "output_type": "stream",
     "text": [
      "Label 0.0: Precision = 0.8392857142857143, Recall = 0.9791666666666666, F1 Score = 0.9038461538461539\nLabel 1.0: Precision = 0.9795918367346939, Recall = 0.8421052631578947, F1 Score = 0.9056603773584905\n"
     ]
    }
   ],
   "source": [
    "rf = RandomForestClassifier(labelCol=label_column, featuresCol=\"features\", numTrees=10)\n",
    "model = rf.fit(train_data_b)\n",
    "predictions = model.transform(validation_data_b)\n",
    "list_analysis_down.extend(analysis(predictions,\"rf\"))"
   ]
  },
  {
   "cell_type": "code",
   "execution_count": 0,
   "metadata": {
    "application/vnd.databricks.v1+cell": {
     "cellMetadata": {
      "byteLimit": 2048000,
      "rowLimit": 10000
     },
     "inputWidgets": {},
     "nuid": "95df9b10-7c06-4188-822e-4e9f646c6eb1",
     "showTitle": true,
     "title": "Gradient Boosting"
    }
   },
   "outputs": [
    {
     "output_type": "stream",
     "name": "stdout",
     "output_type": "stream",
     "text": [
      "Label 0.0: Precision = 0.8627450980392157, Recall = 0.9166666666666666, F1 Score = 0.888888888888889\nLabel 1.0: Precision = 0.9259259259259259, Recall = 0.8771929824561403, F1 Score = 0.9009009009009009\n"
     ]
    }
   ],
   "source": [
    "gbt = GBTClassifier(labelCol=label_column, featuresCol=\"features\", maxIter=10)\n",
    "model = gbt.fit(train_data_b)\n",
    "predictions = model.transform(validation_data_b)\n",
    "list_analysis_down.extend(analysis(predictions,\"gbt\"))"
   ]
  },
  {
   "cell_type": "code",
   "execution_count": 0,
   "metadata": {
    "application/vnd.databricks.v1+cell": {
     "cellMetadata": {
      "byteLimit": 2048000,
      "rowLimit": 10000
     },
     "inputWidgets": {},
     "nuid": "5c58cbdf-29f9-4cf7-9ead-45dae241f16f",
     "showTitle": true,
     "title": " Linear Support Vector Classifier "
    }
   },
   "outputs": [
    {
     "output_type": "stream",
     "name": "stdout",
     "output_type": "stream",
     "text": [
      "Label 0.0: Precision = 0.8, Recall = 1.0, F1 Score = 0.888888888888889\nLabel 1.0: Precision = 1.0, Recall = 0.7894736842105263, F1 Score = 0.8823529411764706\n"
     ]
    }
   ],
   "source": [
    "lsvc = LinearSVC(maxIter=10, regParam=0.1, labelCol=label_column, featuresCol=\"features\")\n",
    "model = lsvc.fit(train_data_b)\n",
    "predictions = model.transform(validation_data_b)\n",
    "list_analysis_down.extend(analysis(predictions,\"lsvc\"))"
   ]
  },
  {
   "cell_type": "code",
   "execution_count": 0,
   "metadata": {
    "application/vnd.databricks.v1+cell": {
     "cellMetadata": {
      "byteLimit": 2048000,
      "rowLimit": 10000
     },
     "inputWidgets": {},
     "nuid": "1226e177-8603-425c-9a88-72260e229c19",
     "showTitle": false,
     "title": ""
    }
   },
   "outputs": [
    {
     "output_type": "display_data",
     "data": {
      "text/html": [
       "<style scoped>\n",
       "  .table-result-container {\n",
       "    max-height: 300px;\n",
       "    overflow: auto;\n",
       "  }\n",
       "  table, th, td {\n",
       "    border: 1px solid black;\n",
       "    border-collapse: collapse;\n",
       "  }\n",
       "  th, td {\n",
       "    padding: 5px;\n",
       "  }\n",
       "  th {\n",
       "    text-align: left;\n",
       "  }\n",
       "</style><div class='table-result-container'><table class='table-result'><thead style='background-color: white'><tr><th>F1 Score</th><th>Label</th><th>Model</th><th>Precision</th><th>Recall</th><th>Model_label</th></tr></thead><tbody><tr><td>0.9996820574416221</td><td>0.0</td><td>lr</td><td>0.9994349085258176</td><td>0.9999293286219081</td><td>lr0.0</td></tr><tr><td>0.7804878048780487</td><td>1.0</td><td>lr</td><td>0.9411764705882353</td><td>0.6666666666666666</td><td>lr1.0</td></tr><tr><td>0.9997880233174351</td><td>0.0</td><td>rf</td><td>0.9996114447191805</td><td>0.9999646643109541</td><td>rf0.0</td></tr><tr><td>0.8604651162790697</td><td>1.0</td><td>rf</td><td>0.9736842105263158</td><td>0.7708333333333334</td><td>rf1.0</td></tr><tr><td>0.9997880083383387</td><td>0.0</td><td>gbt</td><td>0.9996820462092842</td><td>0.9998939929328622</td><td>gbt0.0</td></tr><tr><td>0.8666666666666666</td><td>1.0</td><td>gbt</td><td>0.9285714285714286</td><td>0.8125</td><td>gbt1.0</td></tr><tr><td>0.9996997262209664</td><td>0.0</td><td>lsvc</td><td>0.9994349284831362</td><td>0.9999646643109541</td><td>lsvc0.0</td></tr><tr><td>0.7901234567901234</td><td>1.0</td><td>lsvc</td><td>0.9696969696969697</td><td>0.6666666666666666</td><td>lsvc1.0</td></tr></tbody></table></div>"
      ]
     },
     "metadata": {
      "application/vnd.databricks.v1+output": {
       "addedWidgets": {},
       "aggData": [],
       "aggError": "",
       "aggOverflow": false,
       "aggSchema": [],
       "aggSeriesLimitReached": false,
       "aggType": "",
       "arguments": {},
       "columnCustomDisplayInfos": {},
       "data": [
        [
         0.9996820574416221,
         0.0,
         "lr",
         0.9994349085258176,
         0.9999293286219081,
         "lr0.0"
        ],
        [
         0.7804878048780487,
         1.0,
         "lr",
         0.9411764705882353,
         0.6666666666666666,
         "lr1.0"
        ],
        [
         0.9997880233174351,
         0.0,
         "rf",
         0.9996114447191805,
         0.9999646643109541,
         "rf0.0"
        ],
        [
         0.8604651162790697,
         1.0,
         "rf",
         0.9736842105263158,
         0.7708333333333334,
         "rf1.0"
        ],
        [
         0.9997880083383387,
         0.0,
         "gbt",
         0.9996820462092842,
         0.9998939929328622,
         "gbt0.0"
        ],
        [
         0.8666666666666666,
         1.0,
         "gbt",
         0.9285714285714286,
         0.8125,
         "gbt1.0"
        ],
        [
         0.9996997262209664,
         0.0,
         "lsvc",
         0.9994349284831362,
         0.9999646643109541,
         "lsvc0.0"
        ],
        [
         0.7901234567901234,
         1.0,
         "lsvc",
         0.9696969696969697,
         0.6666666666666666,
         "lsvc1.0"
        ]
       ],
       "datasetInfos": [],
       "dbfsResultPath": null,
       "isJsonSchema": true,
       "metadata": {},
       "overflow": false,
       "plotOptions": {
        "customPlotOptions": {},
        "displayType": "table",
        "pivotAggregation": null,
        "pivotColumns": null,
        "xColumns": null,
        "yColumns": null
       },
       "removedWidgets": [],
       "schema": [
        {
         "metadata": "{}",
         "name": "F1 Score",
         "type": "\"double\""
        },
        {
         "metadata": "{}",
         "name": "Label",
         "type": "\"double\""
        },
        {
         "metadata": "{}",
         "name": "Model",
         "type": "\"string\""
        },
        {
         "metadata": "{}",
         "name": "Precision",
         "type": "\"double\""
        },
        {
         "metadata": "{}",
         "name": "Recall",
         "type": "\"double\""
        },
        {
         "metadata": "{}",
         "name": "Model_label",
         "type": "\"string\""
        }
       ],
       "type": "table"
      }
     },
     "output_type": "display_data"
    },
    {
     "output_type": "display_data",
     "data": {
      "text/plain": [
       "Databricks visualization. Run in Databricks to view."
      ]
     },
     "metadata": {
      "application/vnd.databricks.v1.subcommand+json": {
       "bindings": {},
       "collapsed": false,
       "command": "%python\n__backend_agg_display_orig = display\n__backend_agg_dfs = []\ndef __backend_agg_display_new(df):\n    __backend_agg_df_modules = [\"pandas.core.frame\", \"databricks.koalas.frame\", \"pyspark.sql.dataframe\", \"pyspark.pandas.frame\", \"pyspark.sql.connect.dataframe\"]\n    if (type(df).__module__ in __backend_agg_df_modules and type(df).__name__ == 'DataFrame') or isinstance(df, list):\n        __backend_agg_dfs.append(df)\n\ndisplay = __backend_agg_display_new\n\ndef __backend_agg_user_code_fn():\n    import base64\n    exec(base64.standard_b64decode(\"cmRkID0gc3Bhcmsuc3BhcmtDb250ZXh0LnBhcmFsbGVsaXplKGxpc3RfYW5hbHlzaXMpCmRmX3Jlc3VsdCA9IHNwYXJrLmNyZWF0ZURhdGFGcmFtZShyZGQpCmRmX3Jlc3VsdCA9IGRmX3Jlc3VsdC53aXRoQ29sdW1uKCJNb2RlbF9sYWJlbCIsIGNvbmNhdChkZl9yZXN1bHQuTW9kZWwsIGRmX3Jlc3VsdC5MYWJlbCkpCmRpc3BsYXkoZGZfcmVzdWx0KQ==\").decode())\n\ntry:\n    # run user code\n    __backend_agg_user_code_fn()\n\n    #reset display function\n    display = __backend_agg_display_orig\n\n    if len(__backend_agg_dfs) > 0:\n        # create a temp view\n        if type(__backend_agg_dfs[0]).__module__ == \"databricks.koalas.frame\":\n            # koalas dataframe\n            __backend_agg_dfs[0].to_spark().createOrReplaceTempView(\"DatabricksViewb796d2b\")\n        elif type(__backend_agg_dfs[0]).__module__ == \"pandas.core.frame\" or isinstance(__backend_agg_dfs[0], list):\n            # pandas dataframe\n            spark.createDataFrame(__backend_agg_dfs[0]).createOrReplaceTempView(\"DatabricksViewb796d2b\")\n        else:\n            __backend_agg_dfs[0].createOrReplaceTempView(\"DatabricksViewb796d2b\")\n        #run backend agg\n        display(spark.sql(\"\"\"WITH q AS (select * from DatabricksViewb796d2b) SELECT `Model_label`,SUM(`Precision`) `column_c18fe8753`,SUM(`Recall`) `column_c18fe8755`,SUM(`F1 Score`) `column_c18fe8757` FROM q GROUP BY `Model_label`\"\"\"))\n    else:\n        displayHTML(\"dataframe no longer exists. If you're using dataframe.display(), use display(dataframe) instead.\")\n\n\nfinally:\n    spark.sql(\"drop view if exists DatabricksViewb796d2b\")\n    display = __backend_agg_display_orig\n    del __backend_agg_display_new\n    del __backend_agg_display_orig\n    del __backend_agg_dfs\n    del __backend_agg_user_code_fn\n\n",
       "commandTitle": "Visualization 1",
       "commandType": "auto",
       "commandVersion": 0,
       "commentThread": [],
       "commentsVisible": false,
       "contentSha256Hex": null,
       "customPlotOptions": {
        "redashChart": [
         {
          "key": "type",
          "value": "CHART"
         },
         {
          "key": "options",
          "value": {
           "alignYAxesAtZero": false,
           "coefficient": 1,
           "columnConfigurationMap": {
            "x": {
             "column": "Model_label",
             "id": "column_c18fe8751"
            },
            "y": [
             {
              "column": "Precision",
              "id": "column_c18fe8753",
              "transform": "SUM"
             },
             {
              "column": "Recall",
              "id": "column_c18fe8755",
              "transform": "SUM"
             },
             {
              "column": "F1 Score",
              "id": "column_c18fe8757",
              "transform": "SUM"
             }
            ]
           },
           "dateTimeFormat": "DD/MM/YYYY HH:mm",
           "direction": {
            "type": "counterclockwise"
           },
           "error_y": {
            "type": "data",
            "visible": true
           },
           "globalSeriesType": "column",
           "isAggregationOn": true,
           "legend": {
            "traceorder": "normal"
           },
           "missingValuesAsZero": true,
           "numberFormat": "0,0.[00000]",
           "percentFormat": "0[.]00%",
           "series": {
            "error_y": {
             "type": "data",
             "visible": true
            },
            "stacking": null
           },
           "seriesOptions": {
            "column_c18fe8753": {
             "name": "Precision",
             "type": "column",
             "yAxis": 0
            },
            "column_c18fe8755": {
             "name": "Recall",
             "type": "column",
             "yAxis": 0
            },
            "column_c18fe8757": {
             "name": "F1 Score",
             "type": "column",
             "yAxis": 0
            }
           },
           "showDataLabels": false,
           "sizemode": "diameter",
           "sortX": true,
           "sortY": true,
           "swappedAxes": false,
           "textFormat": "",
           "useAggregationsUi": true,
           "valuesOptions": {},
           "version": 2,
           "xAxis": {
            "labels": {
             "enabled": true
            },
            "type": "-"
           },
           "yAxis": [
            {
             "rangeMax": 1,
             "rangeMin": 0.6,
             "type": "-"
            },
            {
             "opposite": true,
             "type": "-"
            }
           ]
          }
         }
        ]
       },
       "datasetPreviewNameToCmdIdMap": {},
       "diffDeletes": [],
       "diffInserts": [],
       "displayType": "redashChart",
       "error": null,
       "errorDetails": null,
       "errorSummary": null,
       "errorTraceType": null,
       "finishTime": 0,
       "globalVars": {},
       "guid": "",
       "height": "auto",
       "hideCommandCode": false,
       "hideCommandResult": false,
       "iPythonMetadata": null,
       "inputWidgets": {},
       "isLockedInExamMode": false,
       "latestUser": "a user",
       "latestUserId": null,
       "listResultMetadata": null,
       "metadata": {},
       "nuid": "90546b4c-c8b6-4812-a02c-77f00bad326c",
       "origId": 0,
       "parentHierarchy": [],
       "pivotAggregation": null,
       "pivotColumns": null,
       "position": 20.599999999999998,
       "resultDbfsErrorMessage": null,
       "resultDbfsStatus": "INLINED_IN_TREE",
       "results": null,
       "showCommandTitle": false,
       "startTime": 0,
       "state": "input",
       "streamStates": {},
       "subcommandOptions": {
        "queryPlan": {
         "groups": [
          {
           "column": "Model_label",
           "type": "column"
          }
         ],
         "selects": [
          {
           "column": "Model_label",
           "type": "column"
          },
          {
           "alias": "column_c18fe8753",
           "args": [
            {
             "column": "Precision",
             "type": "column"
            }
           ],
           "function": "SUM",
           "type": "function"
          },
          {
           "alias": "column_c18fe8755",
           "args": [
            {
             "column": "Recall",
             "type": "column"
            }
           ],
           "function": "SUM",
           "type": "function"
          },
          {
           "alias": "column_c18fe8757",
           "args": [
            {
             "column": "F1 Score",
             "type": "column"
            }
           ],
           "function": "SUM",
           "type": "function"
          }
         ]
        }
       },
       "submitTime": 0,
       "subtype": "tableResultSubCmd.visualization",
       "tableResultIndex": 0,
       "useConsistentColors": false,
       "version": "CommandV1",
       "width": "auto",
       "workflows": [],
       "xColumns": null,
       "yColumns": null
      }
     },
     "output_type": "display_data"
    }
   ],
   "source": [
    "rdd = spark.sparkContext.parallelize(list_analysis)\n",
    "df_result = spark.createDataFrame(rdd)\n",
    "df_result = df_result.withColumn(\"Model_label\", concat(df_result.Model, df_result.Label))\n",
    "display(df_result)"
   ]
  },
  {
   "cell_type": "code",
   "execution_count": 0,
   "metadata": {
    "application/vnd.databricks.v1+cell": {
     "cellMetadata": {
      "byteLimit": 2048000,
      "rowLimit": 10000
     },
     "inputWidgets": {},
     "nuid": "2e686f9c-d604-4295-b69b-e0b8db026f7b",
     "showTitle": false,
     "title": ""
    }
   },
   "outputs": [
    {
     "output_type": "display_data",
     "data": {
      "text/html": [
       "<style scoped>\n",
       "  .table-result-container {\n",
       "    max-height: 300px;\n",
       "    overflow: auto;\n",
       "  }\n",
       "  table, th, td {\n",
       "    border: 1px solid black;\n",
       "    border-collapse: collapse;\n",
       "  }\n",
       "  th, td {\n",
       "    padding: 5px;\n",
       "  }\n",
       "  th {\n",
       "    text-align: left;\n",
       "  }\n",
       "</style><div class='table-result-container'><table class='table-result'><thead style='background-color: white'><tr><th>F1 Score</th><th>Label</th><th>Model</th><th>Precision</th><th>Recall</th><th>Model_label</th></tr></thead><tbody><tr><td>0.8799999999999999</td><td>0.0</td><td>lr</td><td>0.8461538461538461</td><td>0.9166666666666666</td><td>lr0.0</td></tr><tr><td>0.8909090909090909</td><td>1.0</td><td>lr</td><td>0.9245283018867925</td><td>0.8596491228070176</td><td>lr1.0</td></tr><tr><td>0.9038461538461539</td><td>0.0</td><td>rf</td><td>0.8392857142857143</td><td>0.9791666666666666</td><td>rf0.0</td></tr><tr><td>0.9056603773584905</td><td>1.0</td><td>rf</td><td>0.9795918367346939</td><td>0.8421052631578947</td><td>rf1.0</td></tr><tr><td>0.888888888888889</td><td>0.0</td><td>gbt</td><td>0.8627450980392157</td><td>0.9166666666666666</td><td>gbt0.0</td></tr><tr><td>0.9009009009009009</td><td>1.0</td><td>gbt</td><td>0.9259259259259259</td><td>0.8771929824561403</td><td>gbt1.0</td></tr><tr><td>0.888888888888889</td><td>0.0</td><td>lsvc</td><td>0.8</td><td>1.0</td><td>lsvc0.0</td></tr><tr><td>0.8823529411764706</td><td>1.0</td><td>lsvc</td><td>1.0</td><td>0.7894736842105263</td><td>lsvc1.0</td></tr></tbody></table></div>"
      ]
     },
     "metadata": {
      "application/vnd.databricks.v1+output": {
       "addedWidgets": {},
       "aggData": [],
       "aggError": "",
       "aggOverflow": false,
       "aggSchema": [],
       "aggSeriesLimitReached": false,
       "aggType": "",
       "arguments": {},
       "columnCustomDisplayInfos": {},
       "data": [
        [
         0.8799999999999999,
         0.0,
         "lr",
         0.8461538461538461,
         0.9166666666666666,
         "lr0.0"
        ],
        [
         0.8909090909090909,
         1.0,
         "lr",
         0.9245283018867925,
         0.8596491228070176,
         "lr1.0"
        ],
        [
         0.9038461538461539,
         0.0,
         "rf",
         0.8392857142857143,
         0.9791666666666666,
         "rf0.0"
        ],
        [
         0.9056603773584905,
         1.0,
         "rf",
         0.9795918367346939,
         0.8421052631578947,
         "rf1.0"
        ],
        [
         0.888888888888889,
         0.0,
         "gbt",
         0.8627450980392157,
         0.9166666666666666,
         "gbt0.0"
        ],
        [
         0.9009009009009009,
         1.0,
         "gbt",
         0.9259259259259259,
         0.8771929824561403,
         "gbt1.0"
        ],
        [
         0.888888888888889,
         0.0,
         "lsvc",
         0.8,
         1.0,
         "lsvc0.0"
        ],
        [
         0.8823529411764706,
         1.0,
         "lsvc",
         1.0,
         0.7894736842105263,
         "lsvc1.0"
        ]
       ],
       "datasetInfos": [],
       "dbfsResultPath": null,
       "isJsonSchema": true,
       "metadata": {},
       "overflow": false,
       "plotOptions": {
        "customPlotOptions": {},
        "displayType": "table",
        "pivotAggregation": null,
        "pivotColumns": null,
        "xColumns": null,
        "yColumns": null
       },
       "removedWidgets": [],
       "schema": [
        {
         "metadata": "{}",
         "name": "F1 Score",
         "type": "\"double\""
        },
        {
         "metadata": "{}",
         "name": "Label",
         "type": "\"double\""
        },
        {
         "metadata": "{}",
         "name": "Model",
         "type": "\"string\""
        },
        {
         "metadata": "{}",
         "name": "Precision",
         "type": "\"double\""
        },
        {
         "metadata": "{}",
         "name": "Recall",
         "type": "\"double\""
        },
        {
         "metadata": "{}",
         "name": "Model_label",
         "type": "\"string\""
        }
       ],
       "type": "table"
      }
     },
     "output_type": "display_data"
    },
    {
     "output_type": "display_data",
     "data": {
      "text/plain": [
       "Databricks visualization. Run in Databricks to view."
      ]
     },
     "metadata": {
      "application/vnd.databricks.v1.subcommand+json": {
       "bindings": {},
       "collapsed": false,
       "command": "%python\n__backend_agg_display_orig = display\n__backend_agg_dfs = []\ndef __backend_agg_display_new(df):\n    __backend_agg_df_modules = [\"pandas.core.frame\", \"databricks.koalas.frame\", \"pyspark.sql.dataframe\", \"pyspark.pandas.frame\", \"pyspark.sql.connect.dataframe\"]\n    if (type(df).__module__ in __backend_agg_df_modules and type(df).__name__ == 'DataFrame') or isinstance(df, list):\n        __backend_agg_dfs.append(df)\n\ndisplay = __backend_agg_display_new\n\ndef __backend_agg_user_code_fn():\n    import base64\n    exec(base64.standard_b64decode(\"cmRkID0gc3Bhcmsuc3BhcmtDb250ZXh0LnBhcmFsbGVsaXplKGxpc3RfYW5hbHlzaXNfZG93bikKZGZfcmVzdWx0X2Rvd24gPSBzcGFyay5jcmVhdGVEYXRhRnJhbWUocmRkKQpkZl9yZXN1bHQgPSBkZl9yZXN1bHQud2l0aENvbHVtbigiTW9kZWxfbGFiZWwiLCBjb25jYXQoZGZfcmVzdWx0Lk1vZGVsLCBkZl9yZXN1bHQuTGFiZWwpKQpkaXNwbGF5KGRmX3Jlc3VsdCk=\").decode())\n\ntry:\n    # run user code\n    __backend_agg_user_code_fn()\n\n    #reset display function\n    display = __backend_agg_display_orig\n\n    if len(__backend_agg_dfs) > 0:\n        # create a temp view\n        if type(__backend_agg_dfs[0]).__module__ == \"databricks.koalas.frame\":\n            # koalas dataframe\n            __backend_agg_dfs[0].to_spark().createOrReplaceTempView(\"DatabricksView8ef14f7\")\n        elif type(__backend_agg_dfs[0]).__module__ == \"pandas.core.frame\" or isinstance(__backend_agg_dfs[0], list):\n            # pandas dataframe\n            spark.createDataFrame(__backend_agg_dfs[0]).createOrReplaceTempView(\"DatabricksView8ef14f7\")\n        else:\n            __backend_agg_dfs[0].createOrReplaceTempView(\"DatabricksView8ef14f7\")\n        #run backend agg\n        display(spark.sql(\"\"\"WITH q AS (select * from DatabricksView8ef14f7) SELECT `Model_label`,SUM(`Precision`) `column_c18fe87510`,SUM(`Recall`) `column_c18fe87512`,SUM(`F1 Score`) `column_c18fe87514` FROM q GROUP BY `Model_label`\"\"\"))\n    else:\n        displayHTML(\"dataframe no longer exists. If you're using dataframe.display(), use display(dataframe) instead.\")\n\n\nfinally:\n    spark.sql(\"drop view if exists DatabricksView8ef14f7\")\n    display = __backend_agg_display_orig\n    del __backend_agg_display_new\n    del __backend_agg_display_orig\n    del __backend_agg_dfs\n    del __backend_agg_user_code_fn\n\n",
       "commandTitle": "Visualization 1",
       "commandType": "auto",
       "commandVersion": 0,
       "commentThread": [],
       "commentsVisible": false,
       "contentSha256Hex": null,
       "customPlotOptions": {
        "redashChart": [
         {
          "key": "type",
          "value": "CHART"
         },
         {
          "key": "options",
          "value": {
           "alignYAxesAtZero": false,
           "coefficient": 1,
           "columnConfigurationMap": {
            "x": {
             "column": "Model_label",
             "id": "column_c18fe8758"
            },
            "y": [
             {
              "column": "Precision",
              "id": "column_c18fe87510",
              "transform": "SUM"
             },
             {
              "column": "Recall",
              "id": "column_c18fe87512",
              "transform": "SUM"
             },
             {
              "column": "F1 Score",
              "id": "column_c18fe87514",
              "transform": "SUM"
             }
            ]
           },
           "dateTimeFormat": "DD/MM/YYYY HH:mm",
           "direction": {
            "type": "counterclockwise"
           },
           "error_y": {
            "type": "data",
            "visible": true
           },
           "globalSeriesType": "column",
           "isAggregationOn": true,
           "legend": {
            "traceorder": "normal"
           },
           "missingValuesAsZero": true,
           "numberFormat": "0,0.[00000]",
           "percentFormat": "0[.]00%",
           "series": {
            "error_y": {
             "type": "data",
             "visible": true
            },
            "stacking": null
           },
           "seriesOptions": {
            "column_c18fe87510": {
             "name": "Preicison",
             "type": "column",
             "yAxis": 0
            },
            "column_c18fe87512": {
             "name": "Recall",
             "type": "column",
             "yAxis": 0
            },
            "column_c18fe87514": {
             "name": " F1 Score",
             "type": "column",
             "yAxis": 0
            }
           },
           "showDataLabels": false,
           "sizemode": "diameter",
           "sortX": true,
           "sortY": true,
           "swappedAxes": false,
           "textFormat": "",
           "useAggregationsUi": true,
           "valuesOptions": {},
           "version": 2,
           "xAxis": {
            "labels": {
             "enabled": true
            },
            "type": "-"
           },
           "yAxis": [
            {
             "rangeMax": 1,
             "rangeMin": 0.6,
             "type": "-"
            },
            {
             "opposite": true,
             "type": "-"
            }
           ]
          }
         }
        ]
       },
       "datasetPreviewNameToCmdIdMap": {},
       "diffDeletes": [],
       "diffInserts": [],
       "displayType": "redashChart",
       "error": null,
       "errorDetails": null,
       "errorSummary": null,
       "errorTraceType": null,
       "finishTime": 0,
       "globalVars": {},
       "guid": "",
       "height": "auto",
       "hideCommandCode": false,
       "hideCommandResult": false,
       "iPythonMetadata": null,
       "inputWidgets": {},
       "isLockedInExamMode": false,
       "latestUser": "a user",
       "latestUserId": null,
       "listResultMetadata": null,
       "metadata": {},
       "nuid": "a7c2c03f-24e5-45bc-adaf-d056a318c923",
       "origId": 0,
       "parentHierarchy": [],
       "pivotAggregation": null,
       "pivotColumns": null,
       "position": 21.599999999999998,
       "resultDbfsErrorMessage": null,
       "resultDbfsStatus": "INLINED_IN_TREE",
       "results": null,
       "showCommandTitle": false,
       "startTime": 0,
       "state": "input",
       "streamStates": {},
       "subcommandOptions": {
        "queryPlan": {
         "groups": [
          {
           "column": "Model_label",
           "type": "column"
          }
         ],
         "selects": [
          {
           "column": "Model_label",
           "type": "column"
          },
          {
           "alias": "column_c18fe87510",
           "args": [
            {
             "column": "Precision",
             "type": "column"
            }
           ],
           "function": "SUM",
           "type": "function"
          },
          {
           "alias": "column_c18fe87512",
           "args": [
            {
             "column": "Recall",
             "type": "column"
            }
           ],
           "function": "SUM",
           "type": "function"
          },
          {
           "alias": "column_c18fe87514",
           "args": [
            {
             "column": "F1 Score",
             "type": "column"
            }
           ],
           "function": "SUM",
           "type": "function"
          }
         ]
        }
       },
       "submitTime": 0,
       "subtype": "tableResultSubCmd.visualization",
       "tableResultIndex": 0,
       "useConsistentColors": false,
       "version": "CommandV1",
       "width": "auto",
       "workflows": [],
       "xColumns": null,
       "yColumns": null
      }
     },
     "output_type": "display_data"
    }
   ],
   "source": [
    "rdd = spark.sparkContext.parallelize(list_analysis_down)\n",
    "df_result_down = spark.createDataFrame(rdd)\n",
    "df_result_down = df_result_down.withColumn(\"Model_label\", concat(df_result_down.Model, df_result_down.Label))\n",
    "display(df_result_down)"
   ]
  },
  {
   "cell_type": "code",
   "execution_count": 0,
   "metadata": {
    "application/vnd.databricks.v1+cell": {
     "cellMetadata": {
      "byteLimit": 2048000,
      "rowLimit": 10000
     },
     "inputWidgets": {},
     "nuid": "2a555c05-439b-405f-919f-18d76fe1b69e",
     "showTitle": true,
     "title": "Ergebnis"
    }
   },
    {
     "output_type": "stream",
     "name": "stdout",
     "output_type": "stream",
     "text": [
      "Label 0.0: Precision = 0.9997161711487973, Recall = 0.9999290276792051, F1 Score = 0.9998225880850158\nLabel 1.0: Precision = 0.9411764705882353, Recall = 0.8, F1 Score = 0.8648648648648648\n"
     ]
    }
   ],
   "source": [
    "rf = GBTClassifier(labelCol=label_column, featuresCol=\"features\", maxIter=10)\n",
    "model = gbt.fit(train_data)\n",
    "predictions = model.transform(test_data)\n",
    "list_analysis_down.extend(analysis(predictions,\"gbt\"))"
   ]
  },
  {
   "cell_type": "code",
   "execution_count": 0,
   "metadata": {
    "application/vnd.databricks.v1+cell": {
     "cellMetadata": {
      "byteLimit": 2048000,
      "rowLimit": 10000
     },
     "inputWidgets": {},
     "nuid": "7e0a1471-8e98-4f3c-965e-fbf720d18e55",
     "showTitle": true,
     "title": "Ergebnis Down"
    }
   },
   "outputs": [
    {
     "output_type": "stream",
     "name": "stdout",
     "output_type": "stream",
     "text": [
      "Label 0.0: Precision = 0.9999624173180999, Recall = 0.944180269694819, F1 Score = 0.9712710812586699\nLabel 1.0: Precision = 0.024193548387096774, Recall = 0.975, F1 Score = 0.04721549636803874\n"
     ]
    }
   ],
   "source": [
    "rf = GBTClassifier(labelCol=label_column, featuresCol=\"features\", maxIter=10)\n",
    "model = gbt.fit(train_data_b)\n",
    "predictions = model.transform(test_data)\n",
    "list_analysis_down.extend(analysis(predictions,\"gbt\"))"
   ]
  },
  {
   "cell_type": "code",
   "execution_count": 0,
   "metadata": {
    "application/vnd.databricks.v1+cell": {
     "cellMetadata": {},
     "inputWidgets": {},
     "nuid": "87bdf4e8-dec4-4efd-98e7-6c7f45482c37",
     "showTitle": false,
     "title": ""
    }
   },
   "outputs": [],
   "source": []
  }
 ],
 "metadata": {
  "application/vnd.databricks.v1+notebook": {
   "dashboards": [
    {
     "elements": [],
     "globalVars": {},
     "guid": "",
     "layoutOption": {
      "grid": true,
      "stack": true
     },
     "nuid": "a2843eee-d4e9-424e-89ff-5232e4b8d4ed",
     "origId": 2854789446853587,
     "title": "Untitled",
     "version": "DashboardViewV1",
     "width": 1024
    },
    {
     "elements": [],
     "globalVars": {},
     "guid": "",
     "layoutOption": {
      "grid": true,
      "stack": true
     },
     "nuid": "c0db1ede-dd88-4d16-8786-cfecf476fc0e",
     "origId": 2854789446853588,
     "title": "Untitled",
     "version": "DashboardViewV1",
     "width": 1024
    },
    {
     "elements": [],
     "globalVars": {},
     "guid": "",
     "layoutOption": {
      "grid": true,
      "stack": true
     },
     "nuid": "69440768-30ef-4b0c-9110-185169534efc",
     "origId": 2854789446853589,
     "title": "Untitled",
     "version": "DashboardViewV1",
     "width": 1024
    }
   ],
   "language": "python",
   "notebookMetadata": {
    "pythonIndentUnit": 4
   },
   "notebookName": "main",
   "widgets": {}
  }
 },
 "nbformat": 4,
 "nbformat_minor": 0
}
